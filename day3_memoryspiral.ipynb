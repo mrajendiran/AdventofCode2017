{
 "cells": [
  {
   "cell_type": "markdown",
   "metadata": {},
   "source": [
    "###### Part 1"
   ]
  },
  {
   "cell_type": "code",
   "execution_count": 56,
   "metadata": {
    "collapsed": true
   },
   "outputs": [],
   "source": [
    "import numpy as np\n",
    "import math"
   ]
  },
  {
   "cell_type": "code",
   "execution_count": 398,
   "metadata": {
    "collapsed": false
   },
   "outputs": [],
   "source": [
    "def spiral(x):\n",
    "    if round(np.sqrt(x)) % 2 == 0:\n",
    "        root = (round(np.sqrt(x)) + 1)\n",
    "    else:\n",
    "        if (x > math.pow(round(np.sqrt(x)), 2)):\n",
    "            root = (round(np.sqrt(x)) + 2)\n",
    "        else:\n",
    "            root = round(np.sqrt(x))\n",
    "            \n",
    "    lowest = math.pow((root - 2), 2) + 1\n",
    "    top_right = lowest + (root - 2)\n",
    "    top_left = top_right + (root - 1)\n",
    "    bottom_left = top_left + (root - 1)\n",
    "\n",
    "    if x == 1:\n",
    "        return(0)\n",
    "    if x == lowest:\n",
    "        return(root-2)\n",
    "    if x == math.pow(root, 2):\n",
    "        return(root - 1)\n",
    "    if x <= top_right:\n",
    "        diff = top_right - x\n",
    "        return((root - 1) - diff)\n",
    "    if x > top_right and x <= top_left:\n",
    "        diff = top_left - x\n",
    "        if x < top_right+round(root/2):\n",
    "            return(diff)\n",
    "        else:\n",
    "            return((root - 1) - diff)\n",
    "    if x > top_left and x <= bottom_left:\n",
    "        diff = bottom_left - x\n",
    "        if x < top_left+round(root/2):\n",
    "            return(diff)\n",
    "        else:\n",
    "            return((root - 1) - diff)\n",
    "    if x > bottom_left and x <= math.pow(root, 2):\n",
    "        diff = math.pow(root, 2) - x\n",
    "        if x < bottom_left+round(root/2):\n",
    "            return(diff)\n",
    "        else:\n",
    "            return((root - 1) - diff)"
   ]
  },
  {
   "cell_type": "code",
   "execution_count": 399,
   "metadata": {
    "collapsed": false
   },
   "outputs": [],
   "source": [
    "assert spiral(1) == 0\n",
    "assert spiral(12) == 3\n",
    "assert spiral(23) == 2\n",
    "assert spiral(1024) == 31\n",
    "assert spiral(60) == 5"
   ]
  },
  {
   "cell_type": "code",
   "execution_count": 400,
   "metadata": {
    "collapsed": false
   },
   "outputs": [
    {
     "data": {
      "text/plain": [
       "430.0"
      ]
     },
     "execution_count": 400,
     "metadata": {},
     "output_type": "execute_result"
    }
   ],
   "source": [
    "spiral(312051)"
   ]
  }
 ],
 "metadata": {
  "kernelspec": {
   "display_name": "Python [Root]",
   "language": "python",
   "name": "Python [Root]"
  },
  "language_info": {
   "codemirror_mode": {
    "name": "ipython",
    "version": 3
   },
   "file_extension": ".py",
   "mimetype": "text/x-python",
   "name": "python",
   "nbconvert_exporter": "python",
   "pygments_lexer": "ipython3",
   "version": "3.5.1"
  }
 },
 "nbformat": 4,
 "nbformat_minor": 0
}
